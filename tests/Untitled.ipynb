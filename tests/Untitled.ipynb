{
 "cells": [
  {
   "cell_type": "code",
   "execution_count": 36,
   "metadata": {},
   "outputs": [],
   "source": [
    "import exoplanet as xo\n",
    "import specgp as sgp\n",
    "import numpy as np\n",
    "import theano.tensor as tt\n",
    "import theano \n",
    "\n",
    "\n",
    "logS0 = tt.scalar()\n",
    "logw0 = tt.scalar()\n",
    "logQ = tt.scalar()\n",
    "logS0.tag.test_value = -5.0\n",
    "logw0.tag.test_value = -2.0\n",
    "logQ.tag.test_value = 1.0\n",
    "term = xo.gp.terms.SHOTerm(S0=tt.exp(logS0), w0=tt.exp(logw0), Q=tt.exp(logQ))\n",
    "\n",
    "alpha = tt.vector()\n",
    "alpha.tag.test_value = np.array([1, 2, 3])\n",
    "kernel = sgp.terms.KronTerm(term, alpha=alpha)\n",
    "\n",
    "t = tt.vector()\n",
    "diag = tt.dmatrix()\n",
    "t.tag.test_value = np.linspace(0, 10, 10)\n",
    "diag.tag.test_value = 1e-5 * tt.ones((3, 10))\n",
    "mean = tt.dmatrix()\n",
    "mean.tag.test_value = 0.0 * tt.ones((3, 10))\n",
    "Q = alpha[:, None]*alpha[None, :]\n",
    "gp = xo.gp.GP(kernel=kernel, diag=diag, mean=sgp.means.KronMean(mean), x=t, J=2)\n",
    "K = tt.slinalg.kron(term.to_dense(t, tt.zeros_like(t)), Q)\n",
    "d = tt.vector()\n",
    "d.tag.test_value = 1e-5 * np.ones(30)\n",
    "K = K + tt.diag(d)"
   ]
  },
  {
   "cell_type": "code",
   "execution_count": null,
   "metadata": {},
   "outputs": [],
   "source": []
  },
  {
   "cell_type": "code",
   "execution_count": 31,
   "metadata": {},
   "outputs": [
    {
     "name": "stderr",
     "output_type": "stream",
     "text": [
      "/Users/tgordon/Library/Python/3.7/lib/python/site-packages/theano/tensor/basic.py:6611: FutureWarning: Using a non-tuple sequence for multidimensional indexing is deprecated; use `arr[tuple(seq)]` instead of `arr[seq]`. In the future this will be interpreted as an array index, `arr[np.array(seq)]`, which will result either in an error or a different result.\n",
      "  result[diagonal_slice] = x\n"
     ]
    }
   ],
   "source": [
    "import exoplanet as xo\n",
    "import specgp as sgp\n",
    "import numpy as np\n",
    "import theano.tensor as tt\n",
    "import theano \n",
    "\n",
    "\n",
    "\n",
    "logS0 = tt.scalar()\n",
    "logw0 = tt.scalar()\n",
    "logQ = tt.scalar()\n",
    "logS0.tag.test_value = -5.0\n",
    "logw0.tag.test_value = -2.0\n",
    "logQ.tag.test_value = 1.0\n",
    "kernel = terms.SHOTerm(S0=tt.exp(logS0), w0=tt.exp(logw0), Q=tt.exp(logQ))\n",
    "\n",
    "kernel = sgp.terms.KronTerm(term, alpha=[1, 2, 3])\n",
    "t = np.linspace(0, 10, 10)\n",
    "diag = 1e-5 * np.ones((3, len(t)))\n",
    "Q = kernel.alpha[:, None]*kernel.alpha[None, :]\n",
    "gp = xo.gp.GP(kernel=kernel, diag=diag, mean=sgp.means.KronMean(np.zeros_like(diag)), x=t, J=2)\n",
    "K = tt.slinalg.kron(term.to_dense(t, np.zeros(len(t))), Q).eval()\n",
    "K = K + np.diag(np.concatenate(diag))\n",
    "\n",
    "def test_inverse():\n",
    "    z = np.random.randn(len(t)*3, 1)\n",
    "    y = np.dot(np.linalg.inv(K), z)\n",
    "    y = tt.as_tensor_variable(y)\n",
    "    assert tt.allclose(y, gp.apply_inverse(z))"
   ]
  },
  {
   "cell_type": "code",
   "execution_count": 27,
   "metadata": {},
   "outputs": [],
   "source": []
  },
  {
   "cell_type": "code",
   "execution_count": 10,
   "metadata": {},
   "outputs": [],
   "source": [
    "x = gp.apply_inverse(z)"
   ]
  },
  {
   "cell_type": "code",
   "execution_count": null,
   "metadata": {},
   "outputs": [],
   "source": []
  },
  {
   "cell_type": "code",
   "execution_count": 33,
   "metadata": {},
   "outputs": [
    {
     "ename": "AttributeError",
     "evalue": "module 'theano.tensor' has no attribute 'random'",
     "output_type": "error",
     "traceback": [
      "\u001b[0;31m---------------------------------------------------------------------------\u001b[0m",
      "\u001b[0;31mAttributeError\u001b[0m                            Traceback (most recent call last)",
      "\u001b[0;32m<ipython-input-33-947f7c85ffe1>\u001b[0m in \u001b[0;36m<module>\u001b[0;34m()\u001b[0m\n\u001b[0;32m----> 1\u001b[0;31m \u001b[0mtt\u001b[0m\u001b[0;34m.\u001b[0m\u001b[0mrandom\u001b[0m\u001b[0;34m.\u001b[0m\u001b[0mrandn\u001b[0m\u001b[0;34m(\u001b[0m\u001b[0;36m30\u001b[0m\u001b[0;34m,\u001b[0m \u001b[0;36m1\u001b[0m\u001b[0;34m)\u001b[0m\u001b[0;34m\u001b[0m\u001b[0;34m\u001b[0m\u001b[0m\n\u001b[0m",
      "\u001b[0;31mAttributeError\u001b[0m: module 'theano.tensor' has no attribute 'random'"
     ]
    }
   ],
   "source": [
    "np.random"
   ]
  },
  {
   "cell_type": "code",
   "execution_count": null,
   "metadata": {},
   "outputs": [],
   "source": [
    "tt.nlinalg.matrix_inverse"
   ]
  }
 ],
 "metadata": {
  "kernelspec": {
   "display_name": "Python 3",
   "language": "python",
   "name": "python3"
  },
  "language_info": {
   "codemirror_mode": {
    "name": "ipython",
    "version": 3
   },
   "file_extension": ".py",
   "mimetype": "text/x-python",
   "name": "python",
   "nbconvert_exporter": "python",
   "pygments_lexer": "ipython3",
   "version": "3.7.6"
  }
 },
 "nbformat": 4,
 "nbformat_minor": 2
}
