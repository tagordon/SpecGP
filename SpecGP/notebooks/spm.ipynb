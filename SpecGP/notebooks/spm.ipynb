{
 "cells": [
  {
   "cell_type": "code",
   "execution_count": null,
   "metadata": {},
   "outputs": [],
   "source": [
    "from astropy.io import fits\n",
    "from astropy.time import Time\n",
    "import numpy as np\n",
    "import exoplanet as xo\n",
    "import matplotlib.pyplot as pl\n",
    "import mpl_defaults as mpld\n",
    "%matplotlib inline"
   ]
  },
  {
   "cell_type": "code",
   "execution_count": null,
   "metadata": {},
   "outputs": [],
   "source": [
    "# source: https://sohowww.nascom.nasa.gov/data/archive.html\n",
    "blue = fits.open('blue.fits')\n",
    "green = fits.open('green.fits')\n",
    "red = fits.open('red.fits')\n",
    "\n",
    "r, g, b = red[0].data, green[0].data, blue[0].data\n",
    "mask = np.isfinite(r) & np.isfinite(g) & np.isfinite(b)\n",
    "start = blue[0].header['DATES'][0:9]\n",
    "end = blue[0].header['DATES'][14:]\n",
    "start, end = Time([start, end]).jd\n",
    "t = np.linspace(start, end, len(r)) - start\n",
    "r, g, b = r[mask].astype('float64'), g[mask].astype('float64'), b[mask].astype('float64')\n",
    "t = t[mask]\n",
    "flux = np.sum([r, g, b], axis=0)/3"
   ]
  },
  {
   "cell_type": "code",
   "execution_count": null,
   "metadata": {},
   "outputs": [],
   "source": [
    "flux = flux/1e3\n",
    "f = np.fft.rfftfreq(len(t), t[1] - t[0])\n",
    "fft = np.fft.rfft(flux)\n",
    "fft *= np.conj(fft)\n",
    "power = fft.real / len(t)**2"
   ]
  },
  {
   "cell_type": "code",
   "execution_count": null,
   "metadata": {},
   "outputs": [],
   "source": [
    "fig, ax = pl.subplots(2, 1, figsize=(10, 14))\n",
    "ax[0].loglog(f, power, '.k', ms=1)\n",
    "ax[0].set_xlabel('frequency')\n",
    "ax[0].set_ylabel(r'power (ppt$^2$/Hz)')\n",
    "\n",
    "ax[1].loglog(f, power, '.k', ms=1)\n",
    "ax[1].set_xlim(200, 400)\n",
    "ax[1].set_ylabel(r'power (ppt$^2$/Hz)')\n",
    "ax[1].set_xlabel('frequency')\n",
    "ax[1].set_ylim(1e-13, 1e-8)"
   ]
  },
  {
   "cell_type": "code",
   "execution_count": null,
   "metadata": {},
   "outputs": [],
   "source": [
    "i = 160000\n",
    "di = 2000\n",
    "t = t[i:i+di]\n",
    "yerr = np.exp(-10)*np.ones_like(t)\n",
    "r, g, b, flux = r[i:i+di]/1e3, g[i:i+di]/1e3, b[i:i+di]/1e3, flux[i:i+di]/1e3"
   ]
  },
  {
   "cell_type": "code",
   "execution_count": null,
   "metadata": {},
   "outputs": [],
   "source": [
    "fig, ax = pl.subplots(4, 1, figsize=(10, 7), sharex=True)\n",
    "ax[0].plot(t, 1+r, '.', color=mpld.red, alpha=1, ms=3.0)\n",
    "ax[1].plot(t, 1+g, '.', color=mpld.green, alpha=1, ms=3.0)\n",
    "ax[2].plot(t, 1+b, '.', color=mpld.blue, alpha=1, ms=3.0)\n",
    "ax[3].plot(t, 1+flux, '.', color='k', alpha=1, ms=3.0)\n",
    "\n",
    "ax[0].annotate('862 nm', xy=(0.85, 0.78), xycoords='axes fraction', fontsize=15)\n",
    "ax[1].annotate('500 nm', xy=(0.85, 0.78), xycoords='axes fraction', fontsize=15)\n",
    "ax[2].annotate('402 nm', xy=(0.85, 0.78), xycoords='axes fraction', fontsize=15)\n",
    "ax[3].annotate('total flux', xy=(0.85, 0.78), xycoords='axes fraction', fontsize=15)\n",
    "\n",
    "[ax.set_ylim(0.5, 1.5) for ax in ax]\n",
    "ax[3].set_xlabel('days since Jan. 23, 1996')\n",
    "pl.annotate(\"normalized flux\", xy=(0.0, 0.75), \n",
    "            xycoords='figure fraction', \n",
    "            rotation=90, fontsize=30)\n",
    "pl.savefig(\"/Users/tgordon/Desktop/spm_lc.pdf\")"
   ]
  },
  {
   "cell_type": "code",
   "execution_count": null,
   "metadata": {},
   "outputs": [],
   "source": [
    "f = np.fft.rfftfreq(len(t), t[1] - t[0])\n",
    "fftr = np.fft.rfft(r)\n",
    "fftg = np.fft.rfft(g)\n",
    "fftb = np.fft.rfft(b)\n",
    "\n",
    "fftr *= np.conj(fftr)\n",
    "fftg *= np.conj(fftg)\n",
    "fftb *= np.conj(fftb)\n",
    "\n",
    "powerfftr = fftr.real / len(t)**2\n",
    "powerfftg = fftg.real / len(t)**2\n",
    "powerfftb = fftb.real / len(t)**2"
   ]
  },
  {
   "cell_type": "code",
   "execution_count": null,
   "metadata": {},
   "outputs": [],
   "source": [
    "fig, ax = pl.subplots(3, 1, figsize=(10, 7), sharex=True)\n",
    "ax[0].loglog(f, powerfftr, '.', color=mpld.red)\n",
    "ax[1].loglog(f, powerfftg, '.', color=mpld.green)\n",
    "ax[2].loglog(f, powerfftb, '.', color=mpld.blue)\n",
    "pl.xlabel('frequency')"
   ]
  },
  {
   "cell_type": "code",
   "execution_count": null,
   "metadata": {},
   "outputs": [],
   "source": [
    "log_S0 = [-9, -12, -15]\n",
    "log_S0_bounds = [[-11, 0], [-14, -11], [-20, -14]]\n",
    "log_w0 = [1, 6, 7.4]\n",
    "log_Q = [-np.log(np.sqrt(2)), -np.log(np.sqrt(2)), 1]\n",
    "log_sig = -18\n",
    "\n",
    "import pymc3 as pm\n",
    "import theano.tensor as tt\n",
    "\n",
    "def find_map_soln(y):\n",
    "    with pm.Model() as model:\n",
    "\n",
    "        # The parameters of the SHOTerm kernel\n",
    "        logS = [pm.Uniform(\"logS{0}\".format(i), \n",
    "                        lower=log_S0_bounds[i][0], upper=log_S0_bounds[i][1], \n",
    "                        testval=ls) for i, ls in enumerate(log_S0)]\n",
    "        logQ = [pm.Uniform(\"logQ{0}\".format(i), \n",
    "                       lower=-20.0, upper=20.0, \n",
    "                       testval=lq) for i, lq in enumerate(log_Q)]\n",
    "        logw = [pm.Uniform(\"logw{0}\".format(i), \n",
    "                        lower=-20.0, upper=20.0, \n",
    "                        testval=lw) for i, lw in enumerate(log_w0)]\n",
    "        mean = pm.Uniform(\"mean\", lower=-1000, upper=1000, testval=0)\n",
    "        #logsig = pm.Uniform(\"logsig\", lower=-50, upper=0, testval=log_sig)\n",
    "        kernel = xo.gp.terms.Term()\n",
    "        for (ls, lw, lq) in zip(logS, logw, logQ):\n",
    "            kernel += xo.gp.terms.SHOTerm(\n",
    "            log_S0 = ls,\n",
    "            log_w0 = lw,\n",
    "            log_Q=lq)\n",
    "    \n",
    "        gp = xo.gp.GP(kernel, t, yerr ** 2, J=2*len(log_S0))\n",
    "        pm.Potential(\"loglike\", gp.log_likelihood(y-mean))\n",
    "        \n",
    "        map_soln = xo.optimize(start=model.test_point, verbose=False)\n",
    "        power = xo.eval_in_model(gp.kernel.psd(2*np.pi*f), map_soln)\n",
    "        #trace = pm.sample(\n",
    "        #    tune=500,\n",
    "        #    draws=2000,\n",
    "        #    start=map_soln,\n",
    "        #    cores=2,\n",
    "        #    chains=2,\n",
    "        #    step=xo.get_dense_nuts_step(target_accept=0.9)\n",
    "        #)\n",
    "      \n",
    "    return model, map_soln#, power#, trace"
   ]
  },
  {
   "cell_type": "code",
   "execution_count": null,
   "metadata": {},
   "outputs": [],
   "source": [
    "model_r, soln_r = find_map_soln(r)\n",
    "model_g, soln_g = find_map_soln(g)\n",
    "model_b, soln_b = find_map_soln(b)\n",
    "#model_all, soln_all, power_all, trace_all = find_map_soln(flux)"
   ]
  },
  {
   "cell_type": "code",
   "execution_count": null,
   "metadata": {},
   "outputs": [],
   "source": [
    "soln_b"
   ]
  },
  {
   "cell_type": "code",
   "execution_count": null,
   "metadata": {},
   "outputs": [],
   "source": [
    "terms_r = []\n",
    "for i in range(len(log_S0)):\n",
    "    terms_r.append(xo.gp.terms.SHOTerm(\n",
    "        log_S0 = soln_r['logS{0}'.format(i)],\n",
    "        log_w0 = soln_r['logw{0}'.format(i)],\n",
    "        log_Q = soln_r['logQ{0}'.format(i)]\n",
    "    ).psd(2*np.pi*f).eval())\n",
    "terms_g = []\n",
    "for i in range(len(log_S0)):\n",
    "    terms_g.append(xo.gp.terms.SHOTerm(\n",
    "        log_S0 = soln_g['logS{0}'.format(i)],\n",
    "        log_w0 = soln_g['logw{0}'.format(i)],\n",
    "        log_Q = soln_g['logQ{0}'.format(i)]\n",
    "    ).psd(2*np.pi*f).eval())\n",
    "terms_b = []\n",
    "for i in range(len(log_S0)):\n",
    "    terms_b.append(xo.gp.terms.SHOTerm(\n",
    "        log_S0 = soln_b['logS{0}'.format(i)],\n",
    "        log_w0 = soln_b['logw{0}'.format(i)],\n",
    "        log_Q = soln_b['logQ{0}'.format(i)]\n",
    "    ).psd(2*np.pi*f).eval())"
   ]
  },
  {
   "cell_type": "code",
   "execution_count": null,
   "metadata": {},
   "outputs": [],
   "source": [
    "fig, ax = pl.subplots(3, 1, figsize=(10, 15))\n",
    "ax[0].loglog(f, powerfftr, '.', color=mpld.red)\n",
    "#ax[0].loglog(f, power_r, '-k',  linewidth=2)\n",
    "ax[0].loglog(f, terms_r[0], color='k', linewidth=1)\n",
    "ax[0].loglog(f, terms_r[1], color='k', linewidth=1)\n",
    "ax[0].loglog(f, terms_r[2], color='k', linewidth=1)\n",
    "\n",
    "ax[1].loglog(f, powerfftg, '.', color=mpld.green)\n",
    "#ax[1].loglog(f, power_g, '-k', linewidth=2)\n",
    "ax[1].loglog(f, terms_g[0], color='k', linewidth=1)\n",
    "ax[1].loglog(f, terms_g[1], color='k', linewidth=1)\n",
    "ax[1].loglog(f, terms_g[2], color='k', linewidth=1)\n",
    "\n",
    "ax[2].loglog(f, powerfftb, '.', color=mpld.blue)\n",
    "#ax[2].loglog(f, power_b, '-k', linewidth=2)\n",
    "ax[2].loglog(f, terms_b[0], color='k', linewidth=1)\n",
    "ax[2].loglog(f, terms_b[1], color='k', linewidth=1)\n",
    "ax[2].loglog(f, terms_b[2], color='k', linewidth=1)\n",
    "\n",
    "[ax.set_xlim(1, 700) for ax in ax]\n",
    "ax[0].set_ylim(1e-10, 1e-4)\n",
    "ax[1].set_ylim(1e-10, 1e-4)\n",
    "ax[2].set_ylim(1e-10, 1e-3)\n",
    "pl.xlabel('frequency')\n",
    "[ax.set_ylabel('power (ppt)') for ax in ax]\n",
    "pl.savefig('/Users/tgordon/Desktop/spm_fits.pdf')"
   ]
  },
  {
   "cell_type": "code",
   "execution_count": null,
   "metadata": {},
   "outputs": [],
   "source": [
    "import corner\n",
    "samples = pm.trace_to_dataframe(trace_r)\n",
    "_ = corner.corner(samples)\n",
    "samples = pm.trace_to_dataframe(trace_g)\n",
    "_ = corner.corner(samples)\n",
    "samples = pm.trace_to_dataframe(trace_b)\n",
    "_ = corner.corner(samples)"
   ]
  },
  {
   "cell_type": "code",
   "execution_count": null,
   "metadata": {},
   "outputs": [],
   "source": [
    "pl.figure(figsize=(10, 7))\n",
    "pl.hist(trace_b.get_values('logS2') - trace_g.get_values('logS2'), \n",
    "        bins=20, density=True, alpha=0.8, color=mpld.red, label=\"third component\")\n",
    "pl.hist(trace_b.get_values('logS1') - trace_g.get_values('logS1'), \n",
    "        bins=20, density=True, alpha=0.8, color=mpld.blue, label=\"second component\");\n",
    "pl.ylabel(r'~ probability')\n",
    "pl.xlabel(r'$\\log (S_\\mathrm{blue}/S_\\mathrm{green})$')\n",
    "pl.legend()\n",
    "pl.ylim(0, 2)\n",
    "pl.savefig('/Users/tgordon/Desktop/prob_bg.pdf')"
   ]
  },
  {
   "cell_type": "code",
   "execution_count": null,
   "metadata": {},
   "outputs": [],
   "source": [
    "pl.figure(figsize=(10, 7))\n",
    "pl.hist(trace_g.get_values('logS2') - trace_r.get_values('logS2'), \n",
    "        bins=20, density=True, alpha=0.8, color=mpld.red, label=\"third component\")\n",
    "pl.hist(trace_g.get_values('logS1') - trace_r.get_values('logS1'), \n",
    "        bins=20, density=True, alpha=0.8, color=mpld.blue, label=\"second component\");\n",
    "pl.ylabel(r'~ probability')\n",
    "pl.xlabel(r'$\\log (S_\\mathrm{green}/S_\\mathrm{red})$')\n",
    "pl.legend()\n",
    "pl.ylim(0, 2)\n",
    "pl.savefig('/Users/tgordon/Desktop/prob_gr.pdf')"
   ]
  },
  {
   "cell_type": "code",
   "execution_count": null,
   "metadata": {},
   "outputs": [],
   "source": [
    "pl.figure(figsize=(10, 7))\n",
    "pl.hist(trace_b.get_values('logS2') - trace_r.get_values('logS2'), \n",
    "        bins=20, density=True, alpha=0.8, color=mpld.red, label=\"third component\")\n",
    "pl.hist(trace_b.get_values('logS1') - trace_r.get_values('logS1'), \n",
    "        bins=20, density=True, alpha=0.8, color=mpld.blue, label=\"second component\");\n",
    "pl.ylabel(r'~ probability')\n",
    "pl.xlabel(r'$\\log (S_\\mathrm{blue}/S_\\mathrm{red})$')\n",
    "pl.legend()\n",
    "pl.ylim(0, 2)\n",
    "pl.savefig('/Users/tgordon/Desktop/prob_br.pdf')"
   ]
  },
  {
   "cell_type": "code",
   "execution_count": null,
   "metadata": {},
   "outputs": [],
   "source": [
    "pl.figure(figsize=(10, 7))\n",
    "pl.hist(trace_g.get_values('logw2') - trace_r.get_values('logw2'), \n",
    "        bins=20, density=True, alpha=0.8, color=mpld.red, label=\"third component\")\n",
    "pl.hist(trace_g.get_values('logw1') - trace_r.get_values('logw1'), \n",
    "        bins=20, density=True, alpha=0.8, color=mpld.blue, label=\"second component\");\n",
    "pl.ylabel(r'~ probability')\n",
    "pl.xlabel(r'$\\log (\\omega_\\mathrm{green}/\\omega_\\mathrm{red})$')\n",
    "pl.legend()\n",
    "pl.savefig('/Users/tgordon/Desktop/prob_omega_gr.pdf')\n",
    "#pl.ylim(0, 2)"
   ]
  },
  {
   "cell_type": "code",
   "execution_count": null,
   "metadata": {},
   "outputs": [],
   "source": [
    "pl.figure(figsize=(10, 7))\n",
    "pl.hist(trace_b.get_values('logw2') - trace_r.get_values('logw2'), \n",
    "        bins=20, density=True, alpha=0.8, color=mpld.red, label=\"third component\")\n",
    "pl.hist(trace_b.get_values('logw1') - trace_r.get_values('logw1'), \n",
    "        bins=20, density=True, alpha=0.8, color=mpld.blue, label=\"second component\");\n",
    "pl.ylabel(r'~ probability')\n",
    "pl.xlabel(r'$\\log (\\omega_\\mathrm{blue}/\\omega_\\mathrm{red})$')\n",
    "pl.legend()\n",
    "pl.savefig('/Users/tgordon/Desktop/prob_omega_br.pdf')"
   ]
  },
  {
   "cell_type": "code",
   "execution_count": null,
   "metadata": {},
   "outputs": [],
   "source": [
    "pl.figure(figsize=(10, 7))\n",
    "pl.hist(trace_b.get_values('logw2') - trace_g.get_values('logw2'), \n",
    "        bins=20, density=True, alpha=0.8, color=mpld.red, label=\"third component\")\n",
    "pl.hist(trace_b.get_values('logw1') - trace_g.get_values('logw1'), \n",
    "        bins=20, density=True, alpha=0.8, color=mpld.blue, label=\"second component\");\n",
    "pl.ylabel(r'~ probability')\n",
    "pl.xlabel(r'$\\log (\\omega_\\mathrm{blue}/\\omega_\\mathrm{green})$')\n",
    "pl.legend()\n",
    "pl.savefig('/Users/tgordon/Desktop/prob_omega_bg.pdf')"
   ]
  },
  {
   "cell_type": "code",
   "execution_count": null,
   "metadata": {},
   "outputs": [],
   "source": []
  },
  {
   "cell_type": "code",
   "execution_count": null,
   "metadata": {},
   "outputs": [],
   "source": []
  }
 ],
 "metadata": {
  "kernelspec": {
   "display_name": "Python 3",
   "language": "python",
   "name": "python3"
  },
  "language_info": {
   "codemirror_mode": {
    "name": "ipython",
    "version": 3
   },
   "file_extension": ".py",
   "mimetype": "text/x-python",
   "name": "python",
   "nbconvert_exporter": "python",
   "pygments_lexer": "ipython3",
   "version": "3.7.6"
  }
 },
 "nbformat": 4,
 "nbformat_minor": 2
}
