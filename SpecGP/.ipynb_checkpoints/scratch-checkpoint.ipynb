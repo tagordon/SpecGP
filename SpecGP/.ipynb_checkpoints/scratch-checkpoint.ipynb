{
 "cells": [
  {
   "cell_type": "code",
   "execution_count": 1,
   "metadata": {},
   "outputs": [],
   "source": [
    "from SpecGP import means, models\n",
    "import numpy as np\n",
    "import pymc3 as pm\n",
    "import matplotlib.pyplot as pl\n",
    "%matplotlib inline"
   ]
  },
  {
   "cell_type": "code",
   "execution_count": 2,
   "metadata": {},
   "outputs": [],
   "source": [
    "nw = 3\n",
    "tm = models.TransitModel(nw=nw, nterms=1, nbodies=2, ramp=True)\n",
    "tm.params = {'u1': [0.5]*nw,\n",
    "             'u2': [0.5]*nw,\n",
    "             'sig': [1e-5]*nw,\n",
    "             'A': np.linspace(1, 2, nw),\n",
    "             'B': np.linspace(1, 2, nw)+0.1,\n",
    "             'delta[0]': 1.0,\n",
    "             't0[0]': 5.0,\n",
    "             'b0[0]': 0.01,\n",
    "             'r0[0]': np.linspace(0.1, 0.5, nw),\n",
    "             'delta[1]': 1.0,\n",
    "             't0[1]': 2.0,\n",
    "             'b0[1]': 0.1,\n",
    "             'r0[1]': np.linspace(0.1, 0.5, nw)-0.05,\n",
    "             'alpha[0]': np.linspace(1, 10, nw),\n",
    "             'log_S0[0]': -10.0,\n",
    "             'log_w0[0]': 0.0,\n",
    "             'log_Q[0]': -np.log(np.sqrt(2))}\n",
    "start = tm.params"
   ]
  },
  {
   "cell_type": "code",
   "execution_count": 3,
   "metadata": {},
   "outputs": [
    {
     "name": "stderr",
     "output_type": "stream",
     "text": [
      "/Users/tgordon/Library/Python/3.7/lib/python/site-packages/theano/tensor/subtensor.py:2197: FutureWarning: Using a non-tuple sequence for multidimensional indexing is deprecated; use `arr[tuple(seq)]` instead of `arr[seq]`. In the future this will be interpreted as an array index, `arr[np.array(seq)]`, which will result either in an error or a different result.\n",
      "  rval = inputs[0].__getitem__(inputs[1:])\n",
      "/Users/tgordon/Library/Python/3.7/lib/python/site-packages/theano/tensor/subtensor.py:2197: FutureWarning: Using a non-tuple sequence for multidimensional indexing is deprecated; use `arr[tuple(seq)]` instead of `arr[seq]`. In the future this will be interpreted as an array index, `arr[np.array(seq)]`, which will result either in an error or a different result.\n",
      "  rval = inputs[0].__getitem__(inputs[1:])\n"
     ]
    },
    {
     "data": {
      "text/plain": [
       "[<matplotlib.lines.Line2D at 0x1224b6250>,\n",
       " <matplotlib.lines.Line2D at 0x1224b6850>,\n",
       " <matplotlib.lines.Line2D at 0x1224b6790>]"
      ]
     },
     "execution_count": 3,
     "metadata": {},
     "output_type": "execute_result"
    },
    {
     "data": {
      "image/png": "[encoded data removed]",
      "text/plain": [
       "<Figure size 432x288 with 1 Axes>"
      ]
     },
     "metadata": {},
     "output_type": "display_data"
    }
   ],
   "source": [
    "t = np.linspace(0, 10, 1000)\n",
    "y = tm.sample(t)\n",
    "pl.plot(t, y)"
   ]
  },
  {
   "cell_type": "code",
   "execution_count": 4,
   "metadata": {},
   "outputs": [],
   "source": [
    "import theano.tensor as tt\n",
    "def MvUniform(label, lower, upper):\n",
    "    n = len(lower)\n",
    "    lower = tt.as_tensor_variable(lower)\n",
    "    upper = tt.as_tensor_variable(upper)\n",
    "    logprob = tt.log(1 / tt.prod(upper - lower))\n",
    "    logp = lambda x: tt.switch(tt.all(x < upper) and tt.all(x > lower), logprob, -np.inf)\n",
    "    random = lambda point=None, size=None: lower + np.random.rand(n)*(upper - lower)\n",
    "    return pm.DensityDist(label, logp, random=random, shape=n)"
   ]
  },
  {
   "cell_type": "code",
   "execution_count": null,
   "metadata": {},
   "outputs": [
    {
     "name": "stderr",
     "output_type": "stream",
     "text": [
      "/Users/tgordon/Library/Python/3.7/lib/python/site-packages/theano/tensor/subtensor.py:2197: FutureWarning: Using a non-tuple sequence for multidimensional indexing is deprecated; use `arr[tuple(seq)]` instead of `arr[seq]`. In the future this will be interpreted as an array index, `arr[np.array(seq)]`, which will result either in an error or a different result.\n",
      "  rval = inputs[0].__getitem__(inputs[1:])\n",
      "/Users/tgordon/Library/Python/3.7/lib/python/site-packages/theano/tensor/subtensor.py:2197: FutureWarning: Using a non-tuple sequence for multidimensional indexing is deprecated; use `arr[tuple(seq)]` instead of `arr[seq]`. In the future this will be interpreted as an array index, `arr[np.array(seq)]`, which will result either in an error or a different result.\n",
      "  rval = inputs[0].__getitem__(inputs[1:])\n",
      "/Users/tgordon/Library/Python/3.7/lib/python/site-packages/theano/tensor/subtensor.py:2197: FutureWarning: Using a non-tuple sequence for multidimensional indexing is deprecated; use `arr[tuple(seq)]` instead of `arr[seq]`. In the future this will be interpreted as an array index, `arr[np.array(seq)]`, which will result either in an error or a different result.\n",
      "  rval = inputs[0].__getitem__(inputs[1:])\n",
      "/Users/tgordon/Library/Python/3.7/lib/python/site-packages/theano/tensor/subtensor.py:2197: FutureWarning: Using a non-tuple sequence for multidimensional indexing is deprecated; use `arr[tuple(seq)]` instead of `arr[seq]`. In the future this will be interpreted as an array index, `arr[np.array(seq)]`, which will result either in an error or a different result.\n",
      "  rval = inputs[0].__getitem__(inputs[1:])\n",
      "/Users/tgordon/Library/Python/3.7/lib/python/site-packages/theano/tensor/subtensor.py:2197: FutureWarning: Using a non-tuple sequence for multidimensional indexing is deprecated; use `arr[tuple(seq)]` instead of `arr[seq]`. In the future this will be interpreted as an array index, `arr[np.array(seq)]`, which will result either in an error or a different result.\n",
      "  rval = inputs[0].__getitem__(inputs[1:])\n",
      "/Users/tgordon/Library/Python/3.7/lib/python/site-packages/theano/tensor/subtensor.py:2197: FutureWarning: Using a non-tuple sequence for multidimensional indexing is deprecated; use `arr[tuple(seq)]` instead of `arr[seq]`. In the future this will be interpreted as an array index, `arr[np.array(seq)]`, which will result either in an error or a different result.\n",
      "  rval = inputs[0].__getitem__(inputs[1:])\n",
      "/Users/tgordon/Library/Python/3.7/lib/python/site-packages/theano/tensor/subtensor.py:2197: FutureWarning: Using a non-tuple sequence for multidimensional indexing is deprecated; use `arr[tuple(seq)]` instead of `arr[seq]`. In the future this will be interpreted as an array index, `arr[np.array(seq)]`, which will result either in an error or a different result.\n",
      "  rval = inputs[0].__getitem__(inputs[1:])\n",
      "Multiprocess sampling (2 chains in 2 jobs)\n",
      "NUTS: [log_Q[0], log_w0[0], log_S0[0], alpha[0], r0[1], b0[1], t0[1], delta[1], r0[0], b0[0], t0[0], delta[0], B, A, sig, u2, u1]\n",
      "Sampling 2 chains, 0 divergences:   2%|▏         | 61/4000 [02:36<1:59:02,  1.81s/draws]"
     ]
    }
   ],
   "source": [
    "import exoplanet as xo\n",
    "with pm.Model() as model:\n",
    "\n",
    "    nw = 3\n",
    "    tm = models.TransitModel(nw=nw, nterms=1, nbodies=2, ramp=True)\n",
    "    tm.params = {'u1': MvUniform(\"u1\", lower=[0.0]*nw, upper=[1.0]*nw),\n",
    "                 'u2': MvUniform(\"u2\", lower=[0.0]*nw, upper=[1.0]*nw),\n",
    "                 'sig': pm.MvNormal(\"sig\", mu=[1e-5]*nw, cov=tt.eye(nw)*1e-2, shape=nw),\n",
    "                 'A': MvUniform(\"A\", lower=[0.0]*nw, upper=[20.0]*nw),\n",
    "                 'B': MvUniform(\"B\", lower=[0.0]*nw, upper=[20.0]*nw),\n",
    "                 'delta[0]': pm.Uniform(\"delta[0]\", lower=0.0, upper=10.0),\n",
    "                 't0[0]': pm.Uniform(\"t0[0]\", lower=0.0, upper=10.0),\n",
    "                 'b0[0]': pm.Uniform(\"b0[0]\", lower=0.0, upper=1.0),\n",
    "                 'r0[0]': MvUniform(\"r0[0]\", lower=[0.0]*nw, upper=[1.0]*nw),\n",
    "                 'delta[1]': pm.Uniform(\"delta[1]\", lower=0.0, upper=10.0),\n",
    "                 't0[1]': pm.Uniform(\"t0[1]\", lower=0.0, upper=10.0),\n",
    "                 'b0[1]': pm.Uniform(\"b0[1]\", lower=0.0, upper=1.0),\n",
    "                 'r0[1]': MvUniform(\"r0[1]\", lower=[0.0]*nw, upper=[1.0]*nw),\n",
    "                 'alpha[0]': MvUniform(\"alpha[0]\", lower=[0.0]*nw, upper=[20.0]*nw),\n",
    "                 'log_S0[0]': pm.Normal(\"log_S0[0]\", mu=-10, sd=5),\n",
    "                 'log_w0[0]': pm.Normal(\"log_w0[0]\", mu=0, sd=5),\n",
    "                 'log_Q[0]': pm.Normal(\"log_Q[0]\", mu=-np.log(np.sqrt(2)), sd=1)}\n",
    "    \n",
    "    t = tt.as_tensor_variable(t)\n",
    "    pm.Potential(\"log_likelihood\", tm.log_likelihood(t, y))\n",
    "    map_soln = xo.optimize(start=start, verbose=False)\n",
    "    trace = pm.sample(\n",
    "        tune=1000,\n",
    "        draws=1000,\n",
    "        start=map_soln,\n",
    "        cores=2,\n",
    "        chains=2,\n",
    "        step=xo.get_dense_nuts_step(target_accept=0.9),\n",
    "    )"
   ]
  }
 ],
 "metadata": {
  "kernelspec": {
   "display_name": "Python 3",
   "language": "python",
   "name": "python3"
  },
  "language_info": {
   "codemirror_mode": {
    "name": "ipython",
    "version": 3
   },
   "file_extension": ".py",
   "mimetype": "text/x-python",
   "name": "python",
   "nbconvert_exporter": "python",
   "pygments_lexer": "ipython3",
   "version": "3.7.6"
  }
 },
 "nbformat": 4,
 "nbformat_minor": 2
}
