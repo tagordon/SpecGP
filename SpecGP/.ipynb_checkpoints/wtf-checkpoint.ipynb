{
 "cells": [
  {
   "cell_type": "code",
   "execution_count": 1,
   "metadata": {},
   "outputs": [],
   "source": [
    "from astropy.io import fits\n",
    "from astropy.time import Time\n",
    "import numpy as np\n",
    "import exoplanet as xo\n",
    "import matplotlib.pyplot as pl\n",
    "import mpl_defaults as mpld\n",
    "import theano.tensor as tt\n",
    "import pymc3 as pm\n",
    "import theano\n",
    "%matplotlib inline"
   ]
  },
  {
   "cell_type": "code",
   "execution_count": 2,
   "metadata": {},
   "outputs": [],
   "source": [
    "term1 = xo.gp.terms.SHOTerm(log_S0 = 0, log_w0 = 0, log_Q = -np.log(np.sqrt(2)))\n",
    "term2 = xo.gp.terms.SHOTerm(log_S0 = 0, log_w0 = 2, log_Q = -np.log(np.sqrt(2)))\n",
    "term3 = xo.gp.terms.SHOTerm(log_S0 = 0, log_w0 = 4, log_Q = -np.log(np.sqrt(2)))\n",
    "\n",
    "r1 = tt.stack([1, 2, 3])\n",
    "r2 = tt.stack([0.1, 0.5, 1.0])\n",
    "r3 = tt.stack([0.01, 0.02, 0.03])\n",
    "\n",
    "term1 = xo.gp.terms.KroneckerTerm(term1, r1)\n",
    "term2 = xo.gp.terms.KroneckerTerm(term2, r2)\n",
    "term3 = xo.gp.terms.KroneckerTerm(term3, r3)\n",
    "\n",
    "kernel = term1 + term2 + term3"
   ]
  },
  {
   "cell_type": "code",
   "execution_count": 14,
   "metadata": {},
   "outputs": [
    {
     "data": {
      "text/plain": [
       "array([[1, 2, 3],\n",
       "       [2, 4, 6],\n",
       "       [3, 6, 9]], dtype=int8)"
      ]
     },
     "execution_count": 14,
     "metadata": {},
     "output_type": "execute_result"
    }
   ],
   "source": [
    "(term1.alpha[:, None] * term1.alpha[None, :]).eval()"
   ]
  },
  {
   "cell_type": "code",
   "execution_count": 17,
   "metadata": {},
   "outputs": [],
   "source": [
    "def eval_term(term, tau):\n",
    "    coefficients = term.get_coefficients()\n",
    "    coefficients = np.array(coefficients).T\n",
    "    ar = coefficients[0]\n",
    "    cr = coefficients[1]\n",
    "    ac = coefficients[2]\n",
    "    bc = coefficients[3]\n",
    "    cc = coefficients[4]\n",
    "    dc = coefficients[5]\n",
    "    \n",
    "    k = tt.sum(ar * np.exp(-cr * tau))\n",
    "    k += tt.sum(ac * np.exp(-cc * tau) * np.cos(dc * tau))\n",
    "    k += tt.sum(bc * np.exp(-cc * tau) * np.sin(dc * tau))\n",
    "    return k\n",
    "\n",
    "def direct_cov_matrix(t, kernel, diag):\n",
    "    diag = tt.as_tensor_variable(diag)\n",
    "    m = tt.nlinalg.diag(tt.reshape(diag, (1, diag.size))[0])\n",
    "    \n",
    "    if isinstance(kernel, xo.gp.terms.KroneckerTermSum):\n",
    "        for term in kernel.terms:\n",
    "            time_kernel = term.term\n",
    "            Tmat = tt.stack([tt.stack([eval_term(time_kernel, np.abs(t1 - t2)) for t2 in t]) for t1 in t])\n",
    "            Rmat = term.alpha[:, None] * term.alpha[None, :]\n",
    "            m += tt.slinalg.kron(Tmat, Rmat)\n",
    "        return m\n",
    "    else:\n",
    "        time_kernel = kernel.term\n",
    "        Tmat = tt.stack([tt.stack([eval_term(time_kernel, np.abs(t1 - t2)) for t2 in t]) for t1 in t])\n",
    "        Rmat = kernel.alpha[:, None] * kernel.alpha[None, :]\n",
    "        m += tt.slinalg.kron(Tmat, Rmat)\n",
    "    return m\n",
    "    \n",
    "def direct_det(m):\n",
    "    return tt.nlinalg.det(m)\n",
    "\n",
    "def direct_inv(m):\n",
    "    return tt.nlinalg.matrix_inverse(m)\n",
    "\n",
    "def direct_log_likelihood(t, kernel, diag, y):\n",
    "    m = direct_cov_matrix(t, kernel, diag)\n",
    "    det = direct_det(m)\n",
    "    inv = direct_inv(m)\n",
    "    z = tt.dot(inv, y)\n",
    "    norm = 0.5 * (np.log(det) + len(t) * np.log(2*np.pi))\n",
    "    return  - 0.5 * tt.sum(y * z) - norm"
   ]
  },
  {
   "cell_type": "code",
   "execution_count": 18,
   "metadata": {},
   "outputs": [],
   "source": [
    "t = np.linspace(0, 1, 10)\n",
    "diag = 1e-3 * np.ones((3, len(t)))\n",
    "n = np.random.randn(3*len(t), 1)\n",
    "gp = xo.gp.GP(kernel, t, diag, J=6)\n",
    "y = gp.dot_l(n)"
   ]
  },
  {
   "cell_type": "code",
   "execution_count": null,
   "metadata": {},
   "outputs": [
    {
     "name": "stdout",
     "output_type": "stream",
     "text": [
      "direct log-likelihood:\t\t 29.885613504453588 \n",
      "celerite log-likelihood:\t 78.18585334716985\n"
     ]
    },
    {
     "name": "stderr",
     "output_type": "stream",
     "text": [
      "INFO (theano.gof.compilelock): Waiting for existing lock by process '45784' (I am process '45964')\n",
      "INFO (theano.gof.compilelock): To manually release the lock, delete /Users/tgordon/.theano/compiledir_Darwin-19.0.0-x86_64-i386-64bit-i386-3.7.6-64/lock_dir\n",
      "INFO (theano.gof.compilelock): Waiting for existing lock by process '45784' (I am process '45964')\n",
      "INFO (theano.gof.compilelock): To manually release the lock, delete /Users/tgordon/.theano/compiledir_Darwin-19.0.0-x86_64-i386-64bit-i386-3.7.6-64/lock_dir\n",
      "INFO (theano.gof.compilelock): Waiting for existing lock by process '45784' (I am process '45964')\n",
      "INFO (theano.gof.compilelock): To manually release the lock, delete /Users/tgordon/.theano/compiledir_Darwin-19.0.0-x86_64-i386-64bit-i386-3.7.6-64/lock_dir\n",
      "INFO (theano.gof.compilelock): Waiting for existing lock by process '45784' (I am process '45964')\n",
      "INFO (theano.gof.compilelock): To manually release the lock, delete /Users/tgordon/.theano/compiledir_Darwin-19.0.0-x86_64-i386-64bit-i386-3.7.6-64/lock_dir\n",
      "INFO (theano.gof.compilelock): Waiting for existing lock by process '45784' (I am process '45964')\n",
      "INFO (theano.gof.compilelock): To manually release the lock, delete /Users/tgordon/.theano/compiledir_Darwin-19.0.0-x86_64-i386-64bit-i386-3.7.6-64/lock_dir\n",
      "INFO (theano.gof.compilelock): Waiting for existing lock by process '45784' (I am process '45964')\n",
      "INFO (theano.gof.compilelock): To manually release the lock, delete /Users/tgordon/.theano/compiledir_Darwin-19.0.0-x86_64-i386-64bit-i386-3.7.6-64/lock_dir\n",
      "INFO (theano.gof.compilelock): Waiting for existing lock by process '45784' (I am process '45964')\n",
      "INFO (theano.gof.compilelock): To manually release the lock, delete /Users/tgordon/.theano/compiledir_Darwin-19.0.0-x86_64-i386-64bit-i386-3.7.6-64/lock_dir\n",
      "INFO (theano.gof.compilelock): Waiting for existing lock by process '45784' (I am process '45964')\n",
      "INFO (theano.gof.compilelock): To manually release the lock, delete /Users/tgordon/.theano/compiledir_Darwin-19.0.0-x86_64-i386-64bit-i386-3.7.6-64/lock_dir\n",
      "INFO (theano.gof.compilelock): Waiting for existing lock by process '45784' (I am process '45964')\n",
      "INFO (theano.gof.compilelock): To manually release the lock, delete /Users/tgordon/.theano/compiledir_Darwin-19.0.0-x86_64-i386-64bit-i386-3.7.6-64/lock_dir\n",
      "INFO (theano.gof.compilelock): Waiting for existing lock by process '45784' (I am process '45964')\n",
      "INFO (theano.gof.compilelock): To manually release the lock, delete /Users/tgordon/.theano/compiledir_Darwin-19.0.0-x86_64-i386-64bit-i386-3.7.6-64/lock_dir\n",
      "INFO (theano.gof.compilelock): Waiting for existing lock by process '45784' (I am process '45964')\n",
      "INFO (theano.gof.compilelock): To manually release the lock, delete /Users/tgordon/.theano/compiledir_Darwin-19.0.0-x86_64-i386-64bit-i386-3.7.6-64/lock_dir\n",
      "INFO (theano.gof.compilelock): Waiting for existing lock by process '45784' (I am process '45964')\n",
      "INFO (theano.gof.compilelock): To manually release the lock, delete /Users/tgordon/.theano/compiledir_Darwin-19.0.0-x86_64-i386-64bit-i386-3.7.6-64/lock_dir\n",
      "INFO (theano.gof.compilelock): Waiting for existing lock by process '45784' (I am process '45964')\n",
      "INFO (theano.gof.compilelock): To manually release the lock, delete /Users/tgordon/.theano/compiledir_Darwin-19.0.0-x86_64-i386-64bit-i386-3.7.6-64/lock_dir\n",
      "INFO (theano.gof.compilelock): Waiting for existing lock by process '45784' (I am process '45964')\n",
      "INFO (theano.gof.compilelock): To manually release the lock, delete /Users/tgordon/.theano/compiledir_Darwin-19.0.0-x86_64-i386-64bit-i386-3.7.6-64/lock_dir\n",
      "INFO (theano.gof.compilelock): Waiting for existing lock by process '45784' (I am process '45964')\n",
      "INFO (theano.gof.compilelock): To manually release the lock, delete /Users/tgordon/.theano/compiledir_Darwin-19.0.0-x86_64-i386-64bit-i386-3.7.6-64/lock_dir\n",
      "INFO (theano.gof.compilelock): Waiting for existing lock by process '45784' (I am process '45964')\n",
      "INFO (theano.gof.compilelock): To manually release the lock, delete /Users/tgordon/.theano/compiledir_Darwin-19.0.0-x86_64-i386-64bit-i386-3.7.6-64/lock_dir\n",
      "INFO (theano.gof.compilelock): Waiting for existing lock by process '45784' (I am process '45964')\n",
      "INFO (theano.gof.compilelock): To manually release the lock, delete /Users/tgordon/.theano/compiledir_Darwin-19.0.0-x86_64-i386-64bit-i386-3.7.6-64/lock_dir\n",
      "INFO (theano.gof.compilelock): Waiting for existing lock by process '45784' (I am process '45964')\n",
      "INFO (theano.gof.compilelock): To manually release the lock, delete /Users/tgordon/.theano/compiledir_Darwin-19.0.0-x86_64-i386-64bit-i386-3.7.6-64/lock_dir\n",
      "INFO (theano.gof.compilelock): Waiting for existing lock by process '45784' (I am process '45964')\n",
      "INFO (theano.gof.compilelock): To manually release the lock, delete /Users/tgordon/.theano/compiledir_Darwin-19.0.0-x86_64-i386-64bit-i386-3.7.6-64/lock_dir\n",
      "INFO (theano.gof.compilelock): Waiting for existing lock by process '45784' (I am process '45964')\n",
      "INFO (theano.gof.compilelock): To manually release the lock, delete /Users/tgordon/.theano/compiledir_Darwin-19.0.0-x86_64-i386-64bit-i386-3.7.6-64/lock_dir\n"
     ]
    }
   ],
   "source": [
    "print(\"direct log-likelihood:\\t\\t\", \n",
    "      direct_log_likelihood(t, kernel, diag, y).eval(), \n",
    "      \"\\ncelerite log-likelihood:\\t\", \n",
    "      gp.log_likelihood(y).eval())\n",
    "\n",
    "print(\"direct log-determinant:\\t\\t\", \n",
    "      np.log(direct_det(direct_cov_matrix(t, kernel, diag)).eval()), \n",
    "      \"\\ncelerite log-determinant:\\t\", \n",
    "      gp.log_det.eval())"
   ]
  },
  {
   "cell_type": "code",
   "execution_count": 11,
   "metadata": {},
   "outputs": [],
   "source": [
    "ar = [term.term.get_coefficients()[2].eval()[0] for term in gp.kernel.terms]\n",
    "br = [term.term.get_coefficients()[3].eval()[0] for term in gp.kernel.terms]\n",
    "cr = [term.term.get_coefficients()[4].eval()[0] for term in gp.kernel.terms]\n",
    "dr = [term.term.get_coefficients()[5].eval()[0] for term in gp.kernel.terms]\n",
    "\n",
    "#ar = gp.kernel.term.get_coefficients()[2].eval()[0]\n",
    "#br = gp.kernel.term.get_coefficients()[3].eval()[0]\n",
    "#cr = gp.kernel.term.get_coefficients()[4].eval()[0]\n",
    "#dr = gp.kernel.term.get_coefficients()[5].eval()[0]"
   ]
  },
  {
   "cell_type": "code",
   "execution_count": 12,
   "metadata": {},
   "outputs": [],
   "source": [
    "x = np.reshape(t[:, None] * np.ones(3), (3*len(t), 1))\n",
    "#x = tt.tile(x, (1, 6)).eval()\n",
    "pos = np.concatenate([np.exp(cr * x) for cr in cr], axis=1)\n",
    "#pos = np.exp(cr * x)\n",
    "neg = 1 / pos\n",
    "U = gp.U.eval() * neg\n",
    "V = gp.V.eval() * pos\n",
    "W = gp.W.eval() * neg\n",
    "A = np.diag(gp.a.eval())\n",
    "\n",
    "celerite_K = np.tril(np.dot(U, V.T), -1) + np.triu(np.dot(V, U.T), 1) + A\n",
    "direct_K = direct_cov_matrix(t, kernel, diag).eval()\n",
    "celerite_L = np.eye(len(x)) + np.tril(np.dot(U, W.T), -1)"
   ]
  },
  {
   "cell_type": "code",
   "execution_count": 13,
   "metadata": {},
   "outputs": [
    {
     "name": "stdout",
     "output_type": "stream",
     "text": [
      "maximum difference in cholesky decompositions:\t 6.094488841339856\n",
      "maximum difference between covariance matrices:\t 7.105427357601002e-15\n",
      "maximum difference in diagonals:\t\t 5.622169396701793e-12\n",
      "maximum elementwise ratio between diagonals:\t 1.0000000001557607\n",
      "difference between inner product yKy:\t 7.172218374762451e-11\n"
     ]
    }
   ],
   "source": [
    "from scipy import linalg\n",
    "L = linalg.cholesky(direct_K, lower=True)\n",
    "S = np.diag(L)\n",
    "D = np.diag(S*S)\n",
    "L = np.dot(L, np.diag(1/S))\n",
    "\n",
    "z, _, _ = gp.general_solve_op(gp.U, gp.P, gp.d, gp.W, y)\n",
    "celerite_yKy = tt.sum(y * z).eval()\n",
    "direct_yKy = tt.sum(y * tt.dot(tt.nlinalg.matrix_inverse(direct_K), y)).eval()\n",
    "\n",
    "print(\"maximum difference in cholesky decompositions:\\t\", \n",
    "      np.max(np.abs(L - celerite_L)))\n",
    "print(\"maximum difference between covariance matrices:\\t\", \n",
    "      np.max(np.abs(np.dot(np.dot(L, D), L.T) - celerite_K)))\n",
    "print(\"maximum difference in diagonals:\\t\\t\", \n",
    "      np.max(np.abs(np.diag(D) - gp.d.eval())))\n",
    "print(\"maximum elementwise ratio between diagonals:\\t\", \n",
    "      np.exp(np.max(np.abs(np.log(np.diag(D) / gp.d.eval())))))\n",
    "print(\"difference between inner product yKy:\\t\", \n",
    "      np.abs(direct_yKy - celerite_yKy))"
   ]
  },
  {
   "cell_type": "code",
   "execution_count": null,
   "metadata": {},
   "outputs": [],
   "source": [
    "-0.5 * z.eval()"
   ]
  },
  {
   "cell_type": "code",
   "execution_count": null,
   "metadata": {},
   "outputs": [],
   "source": [
    "-0.5 * tt.sum(gp.y * tt.reshape(gp.z, (gp.y.size, 1))).eval()"
   ]
  },
  {
   "cell_type": "code",
   "execution_count": null,
   "metadata": {},
   "outputs": [],
   "source": [
    "gp.norm.eval()"
   ]
  },
  {
   "cell_type": "code",
   "execution_count": null,
   "metadata": {},
   "outputs": [],
   "source": [
    "gp.log_det.eval()"
   ]
  },
  {
   "cell_type": "code",
   "execution_count": null,
   "metadata": {},
   "outputs": [],
   "source": []
  }
 ],
 "metadata": {
  "kernelspec": {
   "display_name": "Python 3",
   "language": "python",
   "name": "python3"
  },
  "language_info": {
   "codemirror_mode": {
    "name": "ipython",
    "version": 3
   },
   "file_extension": ".py",
   "mimetype": "text/x-python",
   "name": "python",
   "nbconvert_exporter": "python",
   "pygments_lexer": "ipython3",
   "version": "3.7.6"
  }
 },
 "nbformat": 4,
 "nbformat_minor": 2
}
