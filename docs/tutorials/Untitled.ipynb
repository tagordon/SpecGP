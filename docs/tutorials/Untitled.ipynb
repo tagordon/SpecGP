{
 "cells": [
  {
   "cell_type": "markdown",
   "metadata": {},
   "source": [
    "# Getting started"
   ]
  },
  {
   "cell_type": "markdown",
   "metadata": {},
   "source": [
    "This tutorial coverst the basics of computing 2D GPs with ``exoplanet`` using the classes provided by ``SpecGP``."
   ]
  },
  {
   "cell_type": "code",
   "execution_count": 1,
   "metadata": {},
   "outputs": [],
   "source": [
    "import numpy as np\n",
    "import matplotlib.pyplot as pl\n",
    "\n",
    "import exoplanet as xo\n",
    "from SpecGP.terms import KroneckerTerm\n",
    "from SpecGP.distributions import MvUniform\n",
    "from SpecGP.means import KroneckerConstant\n",
    "\n",
    "%matplotlib inline\n",
    "\n",
    "colors = ['#FE4365', '#3F9778', '#00A9FF', '#ECA25C', '#005D7F']"
   ]
  },
  {
   "cell_type": "code",
   "execution_count": null,
   "metadata": {},
   "outputs": [],
   "source": []
  }
 ],
 "metadata": {
  "kernelspec": {
   "display_name": "Python 3",
   "language": "python",
   "name": "python3"
  },
  "language_info": {
   "codemirror_mode": {
    "name": "ipython",
    "version": 3
   },
   "file_extension": ".py",
   "mimetype": "text/x-python",
   "name": "python",
   "nbconvert_exporter": "python",
   "pygments_lexer": "ipython3",
   "version": "3.7.6"
  }
 },
 "nbformat": 4,
 "nbformat_minor": 2
}
